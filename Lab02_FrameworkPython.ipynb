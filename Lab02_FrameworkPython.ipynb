{
 "cells": [
  {
   "cell_type": "markdown",
   "metadata": {},
   "source": [
    "## 1. Perform a set of exercises :\n"
   ]
  },
  {
   "cell_type": "markdown",
   "metadata": {},
   "source": [
    "## Exercice03"
   ]
  },
  {
   "cell_type": "code",
   "execution_count": 2,
   "metadata": {
    "scrolled": true
   },
   "outputs": [
    {
     "name": "stdout",
     "output_type": "stream",
     "text": [
      " enter the number :4\n",
      " enter the number :3\n",
      " enter the number :2\n",
      " enter the number :4\n",
      "[[0 0 0]\n",
      " [0 1 1]\n",
      " [0 0 0]\n",
      " [0 1 1]]\n"
     ]
    }
   ],
   "source": [
    "#ex03\n",
    "import numpy as np\n",
    "n =int(input(\" enter the number :\"))\n",
    "m =int(input(\" enter the number :\"))\n",
    "r =int(input(\" enter the number :\"))\n",
    "c=int(input(\" enter the number :\"))\n",
    "arr = np.ones((n, m), dtype=int)\n",
    "\n",
    "arr[::r, :] = 0\n",
    "arr[:,::c] = 0\n",
    "print(arr)\n"
   ]
  },
  {
   "cell_type": "markdown",
   "metadata": {},
   "source": [
    "## Execice04"
   ]
  },
  {
   "cell_type": "code",
   "execution_count": 1,
   "metadata": {},
   "outputs": [
    {
     "name": "stdout",
     "output_type": "stream",
     "text": [
      " enter the number :3\n",
      " enter the number :4\n",
      "[[0 1 2]\n",
      " [0 0 0]\n",
      " [0 0 0]\n",
      " [0 0 0]]\n"
     ]
    }
   ],
   "source": [
    "#ex04\n",
    "import numpy as np\n",
    "\n",
    "n =int(input(\" enter the number :\"))\n",
    "m =int(input(\" enter the number :\"))\n",
    "arr = np.zeros((m, n), dtype=int)\n",
    "\n",
    "arr[0,:] = np.arange(0, n)\n",
    "print(arr)"
   ]
  },
  {
   "cell_type": "markdown",
   "metadata": {},
   "source": [
    "## Exercice5"
   ]
  },
  {
   "cell_type": "code",
   "execution_count": 9,
   "metadata": {},
   "outputs": [
    {
     "name": "stdout",
     "output_type": "stream",
     "text": [
      " enter43\n",
      "[[1 1 1 ... 1 1 1]\n",
      " [0 0 0 ... 0 0 0]\n",
      " [1 1 1 ... 1 1 1]\n",
      " ...\n",
      " [1 1 1 ... 1 1 1]\n",
      " [0 0 0 ... 0 0 0]\n",
      " [1 1 1 ... 1 1 1]]\n"
     ]
    }
   ],
   "source": [
    "import numpy as np\n",
    "n =int(input(\" enter\"))\n",
    "arr = np.zeros((n, n), dtype=int)\n",
    "arr[::2, ::] = 1\n",
    "print(arr)"
   ]
  },
  {
   "cell_type": "markdown",
   "metadata": {},
   "source": [
    "## Exercice06"
   ]
  },
  {
   "cell_type": "code",
   "execution_count": 2,
   "metadata": {},
   "outputs": [
    {
     "name": "stdout",
     "output_type": "stream",
     "text": [
      ": 4\n",
      "[-1]\n"
     ]
    }
   ],
   "source": [
    "#ex06\n",
    "import numpy as np\n",
    "\n",
    "def matr(arr):\n",
    "    arr[arr != 0] = -1\n",
    "    return arr\n",
    "a = np.array([int(i) for i in input(\": \").split()])\n",
    "print(matr(a))"
   ]
  },
  {
   "cell_type": "markdown",
   "metadata": {},
   "source": [
    "## Exercice10"
   ]
  },
  {
   "cell_type": "code",
   "execution_count": 5,
   "metadata": {},
   "outputs": [
    {
     "name": "stdout",
     "output_type": "stream",
     "text": [
      "0.9636634291034424\n",
      "0.14369484979224267\n",
      "0.5487417642206559\n",
      "0.2674110036541431\n"
     ]
    }
   ],
   "source": [
    "#ex10\n",
    "import numpy as np\n",
    "\n",
    "def rndm(n,m):\n",
    "    arr = np.random.random((n,m))\n",
    "    print(arr.max())\n",
    "    print(arr.min())\n",
    "    print(arr.mean())\n",
    "    print(arr.std())\n",
    "rndm(4,4)\n"
   ]
  },
  {
   "cell_type": "markdown",
   "metadata": {},
   "source": [
    "## Exercice12"
   ]
  },
  {
   "cell_type": "code",
   "execution_count": 6,
   "metadata": {},
   "outputs": [
    {
     "name": "stdout",
     "output_type": "stream",
     "text": [
      " enter3\n",
      "[[0 0 0]\n",
      " [0 1 0]\n",
      " [0 0 0]]\n"
     ]
    }
   ],
   "source": [
    "#ex12\n",
    "import numpy as np\n",
    "\n",
    "n =int(input(\" enter\"))\n",
    "arr = np.ones((n, n), dtype=int)\n",
    "arr[0] = 0\n",
    "arr[-1] = 0\n",
    "arr[:, 0] = 0\n",
    "arr[:, -1] = 0\n",
    "print(arr)\n",
    "arr[0]=0"
   ]
  },
  {
   "cell_type": "markdown",
   "metadata": {},
   "source": [
    "## Exercice17"
   ]
  },
  {
   "cell_type": "code",
   "execution_count": 8,
   "metadata": {},
   "outputs": [
    {
     "name": "stdout",
     "output_type": "stream",
     "text": [
      "Enter a number : 5\n",
      "[0 1 0 0 4 5]\n"
     ]
    }
   ],
   "source": [
    "#ex17\n",
    "import numpy as np\n",
    "\n",
    "n = int(input(\"Enter a number : \"))\n",
    "x = np.arange(n+1)\n",
    "l, r = np.split(x, [n//4+1])\n",
    "r[r < 3*n/4] = 0\n",
    "print(x)"
   ]
  },
  {
   "cell_type": "markdown",
   "metadata": {},
   "source": [
    "## Exercice18"
   ]
  },
  {
   "cell_type": "code",
   "execution_count": 13,
   "metadata": {},
   "outputs": [
    {
     "name": "stdout",
     "output_type": "stream",
     "text": [
      "[  0  -1  -2  -3  -4  -5  -6  -7  -8   9  10  11  12  13 -14 -15 -16 -17\n",
      " -18]\n"
     ]
    }
   ],
   "source": [
    "def ex18(n):\n",
    "    arr = np.arange(0,n+1)\n",
    "    arr[(arr < n/2) ^ (arr > 3*n/4)] *= -1\n",
    "    return arr\n",
    "print(ex18(18))"
   ]
  },
  {
   "cell_type": "markdown",
   "metadata": {},
   "source": [
    "## Exercice21"
   ]
  },
  {
   "cell_type": "code",
   "execution_count": 11,
   "metadata": {},
   "outputs": [
    {
     "name": "stdout",
     "output_type": "stream",
     "text": [
      "[0.56840418 0.05000406 0.83697551 0.48172893 0.50406502 0.85690344\n",
      " 0.51750762 0.80371276 0.14726981 0.40324515 0.57372941 0.98254638\n",
      " 0.88510847 0.48881952 0.37292945 0.97926107 0.23847287]\n",
      "[0.56840418 0.05000406 0.83697551 0.48172893 0.50406502 0.85690344\n",
      " 0.51750762 0.80371276 0.14726981 0.40324515 0.57372941 0.\n",
      " 0.88510847 0.48881952 0.37292945 0.97926107 0.23847287]\n"
     ]
    }
   ],
   "source": [
    "#ex21\n",
    "import numpy as np\n",
    "\n",
    "def rndm21(n):\n",
    "    arr = np.random.random(n)\n",
    "    arr1 = np.where(arr == arr.max(), 0, arr)\n",
    "    return arr, arr1\n",
    "for a in rndm21(17):\n",
    "    print(a)"
   ]
  },
  {
   "cell_type": "markdown",
   "metadata": {},
   "source": [
    "## 2. Solve the system of linear equations using Cramer's formulas and perform a test using:"
   ]
  },
  {
   "cell_type": "code",
   "execution_count": 14,
   "metadata": {},
   "outputs": [
    {
     "name": "stdout",
     "output_type": "stream",
     "text": [
      "[ 2.00000000e+00 -4.54182146e-17  4.54182146e-17  6.05576195e-17]\n",
      "[ 2.00000000e+00 -4.54182146e-17  4.54182146e-17  6.05576195e-17]\n",
      "[4. 6. 6. 6.]\n",
      "True\n"
     ]
    }
   ],
   "source": [
    "#solve_by_Cramer\n",
    "def cramer(mA, B):\n",
    "    n = mA.shape[0]\n",
    "    det = np.linalg.det(mA)\n",
    "    xs = np.empty(n)\n",
    "    if det == 0:\n",
    "        return None\n",
    "    for i in range(n):\n",
    "        mAi = np.copy(mA)\n",
    "        mAi[:, i] = B\n",
    "        xs[i] = np.linalg.det(mAi) / det\n",
    "    return xs\n",
    "A = np.array([[2, -1 ,3 ,2 ], [3,3,3 ,2 ], [3,-1 ,-1 ,2 ], [3,-1,3 ,-1 ]])\n",
    "B = np.array([4, 6, 6, 6])\n",
    "roots = cramer(A, B)\n",
    "print(roots)\n",
    "print(np.linalg.solve(A,B))\n",
    "ax = np.dot(A,roots)\n",
    "print(ax)\n",
    "print(np.allclose(ax, B))"
   ]
  },
  {
   "cell_type": "markdown",
   "metadata": {},
   "source": [
    "## 3. Calculate the value of the matrix expression:"
   ]
  },
  {
   "cell_type": "code",
   "execution_count": 17,
   "metadata": {},
   "outputs": [
    {
     "name": "stdout",
     "output_type": "stream",
     "text": [
      "[[  10  -12  126]\n",
      " [  32  -49   -8]\n",
      " [   0    8 -112]]\n"
     ]
    }
   ],
   "source": [
    "#MATRIX\n",
    "A = np.array([[3,2,-5],[4,2,0],[1 , 1,2]], dtype=int)\n",
    "B = np.array([[-1,2,4],[0,3,2],[-1,-3,4]], dtype=int)\n",
    "\n",
    "print((A-(B*B))*(2*A+B))"
   ]
  },
  {
   "cell_type": "markdown",
   "metadata": {},
   "source": [
    "## 4. Solve the matrix equation using an inverse matrix and perform a test using:"
   ]
  },
  {
   "cell_type": "code",
   "execution_count": 22,
   "metadata": {
    "scrolled": true
   },
   "outputs": [
    {
     "name": "stdout",
     "output_type": "stream",
     "text": [
      "[[ 16.  42. -42.]\n",
      " [ -8. -22.  25.]\n",
      " [ 10.  26. -30.]]\n",
      "[[ 16.  42. -42.]\n",
      " [ -8. -22.  25.]\n",
      " [ 10.  26. -30.]]\n",
      "[[ 4.  6. -2.]\n",
      " [ 4. 10.  1.]\n",
      " [ 2.  4. -5.]]\n",
      "True\n"
     ]
    }
   ],
   "source": [
    "#inverse_Matrix2\n",
    "a = np.array([[1,4,2],[2,1,-2],[0,1,1]])\n",
    "b = np.array([[4,6,-2],[4,10,1],[2,4,-5]])\n",
    "def solve(mA, mB):\n",
    "    if np.linalg.det(mA) == 0:\n",
    "        return None\n",
    "    X = np.linalg.inv(mA) @ mB\n",
    "    return X\n",
    "\n",
    "\n",
    "roots = solve(a,b)\n",
    "print(roots)\n",
    "print(np.linalg.solve(a,b))\n",
    "toor = a @ roots\n",
    "print(toor)\n",
    "print(np.allclose(toor,b))"
   ]
  },
  {
   "cell_type": "code",
   "execution_count": null,
   "metadata": {},
   "outputs": [],
   "source": []
  }
 ],
 "metadata": {
  "kernelspec": {
   "display_name": "Python 3",
   "language": "python",
   "name": "python3"
  },
  "language_info": {
   "codemirror_mode": {
    "name": "ipython",
    "version": 3
   },
   "file_extension": ".py",
   "mimetype": "text/x-python",
   "name": "python",
   "nbconvert_exporter": "python",
   "pygments_lexer": "ipython3",
   "version": "3.8.5"
  }
 },
 "nbformat": 4,
 "nbformat_minor": 4
}

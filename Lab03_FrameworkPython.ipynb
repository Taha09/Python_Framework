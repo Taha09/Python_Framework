{
 "cells": [
  {
   "cell_type": "markdown",
   "metadata": {},
   "source": [
    "# Optimization in Python"
   ]
  },
  {
   "cell_type": "markdown",
   "metadata": {},
   "source": [
    "### Task(Variante 8)\n",
    "The monthly plan of the cutting shop is 1000 units of parts P1 and 6000 units of\n",
    "parts P2.Cutting 1 unit of material by 1st method allows us to obtain 10 units of\n",
    "parts P1 and 90 units of P2. 2-d method of cutting gives, respectively, 30 units of P1\n",
    "and 40 units P2. Determine how many units of material to be cut by each of the\n",
    "methods to ensure the total minimum of waste, if 1st method of each unit of\n",
    "material gives 0.2 unit of waste and the 2nd method gives 0.31 unit of waste.\n",
    "\n",
    "|  | P1 | P2 | | WASTE| \n",
    "| :--- | --- | --- | --- | --- |\n",
    "| METHOD1 | 10 | 90 |  | 0,2 |\n",
    "| METHOD2 | 30 | 40 |  | 0,31 |\n",
    "| AMOUNT| 1000 | 6000 |  |\n"
   ]
  },
  {
   "cell_type": "markdown",
   "metadata": {},
   "source": [
    "\n",
    " \\begin{cases}\n",
    "   10x_1+90x_2\\geq 1000 \n",
    "   \\\\\n",
    "   30x_1+40x_2\\geq 6000\n",
    "   \\\\\n",
    "   x_1,x_2\\geq 0\n",
    " \\end{cases}\n",
    "    \n",
    "\\begin{equation}\n",
    "    \\bar{z}=0,2x_1+0,31x_2\\to min\n",
    "\\end{equation}"
   ]
  },
  {
   "cell_type": "code",
   "execution_count": 9,
   "metadata": {},
   "outputs": [
    {
     "data": {
      "image/png": "[encoded data removed]",
      "text/plain": [
       "<Figure size 432x288 with 1 Axes>"
      ]
     },
     "metadata": {
      "needs_background": "light"
     },
     "output_type": "display_data"
    }
   ],
   "source": [
    "import numpy as np\n",
    "import matplotlib.pyplot as plt\n",
    "\n",
    "def z(x1):\n",
    "    return (0.51-0.2*x1)/0.31\n",
    "\n",
    "def A1(x1):\n",
    "    return (100-1*x1)/9\n",
    "\n",
    "def A2(x1):\n",
    "    return (600-3*x1)/4\n",
    "\n",
    "\n",
    "x1 = np.arange(0, 300, 0.2)\n",
    "y = np.array(np.random.randint(0,20,(25,)))\n",
    "plt.axis([0,150,0,150])\n",
    "plt.grid(True)\n",
    "plt.plot(x1,A1(x1))\n",
    "plt.fill_between(x1,A1(x1), alpha=0.2)\n",
    "plt.plot(x1,A2(x1))\n",
    "plt.fill_between(x1,A2(x1), alpha=0.31)\n",
    "\n",
    "\n",
    "plt.plot(x1, z(x1),'--')\n",
    "\n",
    "plt.annotate('', xy=(10,z(2)+10),xytext=(1,z(1)), arrowprops=dict(arrowstyle='->'))\n",
    "plt.text(20,3,\"feasible set\")\n",
    "plt.text(60,90,'30x1+40x2<=6000', rotation=-30)\n",
    "\n",
    "plt.text(40,10,'10x1+90x2<=1000', rotation=-10)\n",
    "\n",
    "plt.title('Graphical solution')\n",
    "plt.xlabel('x1')\n",
    "plt.ylabel('x2')\n",
    "\n",
    "plt.show()"
   ]
  },
  {
   "cell_type": "markdown",
   "metadata": {},
   "source": [
    "### using scipy.optimize."
   ]
  },
  {
   "cell_type": "code",
   "execution_count": 10,
   "metadata": {},
   "outputs": [
    {
     "name": "stdout",
     "output_type": "stream",
     "text": [
      "Wall time: 2.99 ms\n"
     ]
    }
   ],
   "source": [
    "from scipy.optimize import linprog\n",
    "import time\n",
    "\n",
    "\n",
    "c=[-0.2,-0.31]\n",
    "aub=[[10,90],[30,40]]\n",
    "bub=[1000,6000]\n",
    "x1b=(0,None)\n",
    "x2b=(0,None)\n",
    "%time res = linprog(c, A_ub=aub, b_ub=bub, bounds=[x1b, x2b], method='revised simplex')"
   ]
  },
  {
   "cell_type": "code",
   "execution_count": 11,
   "metadata": {},
   "outputs": [
    {
     "name": "stdout",
     "output_type": "stream",
     "text": [
      "Scipy solution: \n",
      "     con: array([], dtype=float64)\n",
      "     fun: -20.0\n",
      " message: 'Optimization terminated successfully.'\n",
      "     nit: 2\n",
      "   slack: array([   0., 3000.])\n",
      "  status: 0\n",
      " success: True\n",
      "       x: array([100.,   0.])\n",
      "Optimal value:  20.0\n"
     ]
    }
   ],
   "source": [
    "print(\"Scipy solution: \")\n",
    "print(res)\n",
    "print(\"Optimal value: \", -res.fun)"
   ]
  },
  {
   "cell_type": "markdown",
   "metadata": {},
   "source": [
    "### using pulp.LpProblem."
   ]
  },
  {
   "cell_type": "code",
   "execution_count": 12,
   "metadata": {},
   "outputs": [],
   "source": [
    "import pulp"
   ]
  },
  {
   "cell_type": "code",
   "execution_count": 13,
   "metadata": {},
   "outputs": [
    {
     "name": "stdout",
     "output_type": "stream",
     "text": [
      "Wall time: 25 ms\n"
     ]
    }
   ],
   "source": [
    "\n",
    "x1 = pulp.LpVariable(\"x1\",0)\n",
    "x2 = pulp.LpVariable(\"x2\",0)\n",
    "problem = pulp.LpProblem(\"Problem\", pulp.LpMaximize)\n",
    "problem += 0.2*x1 + 0.31*x2, \"obj func\"\n",
    "problem += 10*x1 + 90*x2 <= 1000\n",
    "problem += 30*x1 + 40*x2 <= 6000\n",
    "\n",
    "\n",
    "%time status = problem.solve()"
   ]
  },
  {
   "cell_type": "code",
   "execution_count": 14,
   "metadata": {},
   "outputs": [
    {
     "name": "stdout",
     "output_type": "stream",
     "text": [
      "PulP solution is : \n",
      "x1 = 100.0\n",
      "x2 = 0.0\n",
      "20.0\n"
     ]
    }
   ],
   "source": [
    "print(\"PulP solution is : \")\n",
    "for var in problem.variables():\n",
    "    print(var.name, \"=\", var.varValue)\n",
    "print(pulp.value(problem.objective))"
   ]
  },
  {
   "cell_type": "markdown",
   "metadata": {},
   "source": [
    "### Comparing solutions"
   ]
  },
  {
   "cell_type": "code",
   "execution_count": 15,
   "metadata": {},
   "outputs": [],
   "source": [
    "import numpy as np"
   ]
  },
  {
   "cell_type": "code",
   "execution_count": 16,
   "metadata": {},
   "outputs": [
    {
     "data": {
      "text/plain": [
       "True"
      ]
     },
     "execution_count": 16,
     "metadata": {},
     "output_type": "execute_result"
    }
   ],
   "source": [
    "np.allclose(-res.fun, pulp.value(problem.objective))"
   ]
  },
  {
   "cell_type": "markdown",
   "metadata": {},
   "source": [
    "### 2) Solving transportation problem.\n",
    "\n",
    "Transportation problem: There are 5 destinations (in columns) where the\n",
    "products/goods are to be delivered from different 4 sources (in rows). ai\n",
    "is the supply form each source; bi is the demand of each destination; cij is the cost whenthe product is delivered from i the source to j\n",
    "the destination. Find a transportation plan\n",
    "that will provide all customers with the necessary goods at the lowest cost."
   ]
  },
  {
   "cell_type": "markdown",
   "metadata": {},
   "source": [
    "| i/j | 1 | 2 | 3 | 4 | 5 | ai |\n",
    "| --- | --- | --- | --- | --- | --- | --- |\n",
    "| 1 | 11 | 3 | 7 | 10 | 9 | 85 |\n",
    "| 2 | 4 | 5 | 11 | 3 | 7 | 110 |\n",
    "| 3 | 15 | 10 | 6 | 5 | 8 | 65 | \n",
    "| 4 | 6 | 8 | 6 | 4 | 5 | 80 |\n",
    "| bi | 90 | 70 | 70 | 60 | 50 | 340 |"
   ]
  },
  {
   "cell_type": "code",
   "execution_count": 17,
   "metadata": {},
   "outputs": [
    {
     "name": "stdout",
     "output_type": "stream",
     "text": [
      "Wall time: 15 ms\n"
     ]
    }
   ],
   "source": [
    "DI = 4\n",
    "SI = 5\n",
    "\n",
    "cost = np.array([[11,3,7,10,9],[4,5,11,3,7],[15,10,6,5,8],[6,8,6,4,5]])\n",
    "demand = np.array([85,110,65,80]) \n",
    "capacity = np.array([90,70,70,60,50]) \n",
    "\n",
    "A_eq = np.zeros(DI*SI*DI).reshape(DI, DI*SI)\n",
    "\n",
    "for l in range(DI):\n",
    "    for var in range(l*SI, l*SI+SI):\n",
    "        A_eq[l, var] = 1\n",
    "\n",
    "A_ub = np.zeros(SI*DI*SI).reshape(SI, DI*SI)\n",
    "\n",
    "for c in range(SI):\n",
    "    for var in range(c, DI*SI, SI):\n",
    "        A_ub[c, var] = 1\n",
    "\n",
    "%time tp_res = linprog(cost.flatten(), A_eq=A_eq, b_eq=demand, A_ub=A_ub, b_ub=capacity, method='revised simplex')"
   ]
  },
  {
   "cell_type": "code",
   "execution_count": 18,
   "metadata": {},
   "outputs": [
    {
     "name": "stdout",
     "output_type": "stream",
     "text": [
      "     con: array([0., 0., 0., 0.])\n",
      "     fun: 1485.0\n",
      " message: 'Optimization terminated successfully.'\n",
      "     nit: 19\n",
      "   slack: array([0., 0., 0., 0., 0.])\n",
      "  status: 0\n",
      " success: True\n",
      "       x: array([ 0., 70., 15.,  0.,  0., 90.,  0.,  0., 20.,  0.,  0.,  0., 55.,\n",
      "       10.,  0.,  0.,  0.,  0., 30., 50.])\n"
     ]
    }
   ],
   "source": [
    "print(tp_res)"
   ]
  },
  {
   "cell_type": "code",
   "execution_count": 19,
   "metadata": {},
   "outputs": [
    {
     "name": "stdout",
     "output_type": "stream",
     "text": [
      "[[ 0. 70. 15.  0.  0.]\n",
      " [90.  0.  0. 20.  0.]\n",
      " [ 0.  0. 55. 10.  0.]\n",
      " [ 0.  0.  0. 30. 50.]]\n"
     ]
    }
   ],
   "source": [
    "print(tp_res.x.reshape(DI, SI))"
   ]
  },
  {
   "cell_type": "code",
   "execution_count": null,
   "metadata": {},
   "outputs": [],
   "source": []
  }
 ],
 "metadata": {
  "kernelspec": {
   "display_name": "Python 3",
   "language": "python",
   "name": "python3"
  },
  "language_info": {
   "codemirror_mode": {
    "name": "ipython",
    "version": 3
   },
   "file_extension": ".py",
   "mimetype": "text/x-python",
   "name": "python",
   "nbconvert_exporter": "python",
   "pygments_lexer": "ipython3",
   "version": "3.8.5"
  }
 },
 "nbformat": 4,
 "nbformat_minor": 4
}
